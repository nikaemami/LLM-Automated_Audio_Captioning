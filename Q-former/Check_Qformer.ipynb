{
 "cells": [
  {
   "cell_type": "code",
   "execution_count": 1,
   "id": "ee3d1cd3-41fd-4802-b4e4-3d87d2742b2a",
   "metadata": {},
   "outputs": [],
   "source": [
    "import sys\n",
    "sys.path.append('/scratch/ne2213/projects/tmp_packages')\n",
    "# sys.path.append('/scratch/ne2213/projects/tmp_packages/')\n",
    "sys.path.append('/scratch/ne2213/projects/LLM-AAC/LLM-AAC-main')\n",
    "\n",
    "from transformers import AutoConfig\n",
    "from mmpt.models.transformermodel import MMBertForJoint\n",
    "import torch\n"
   ]
  },
  {
   "cell_type": "code",
   "execution_count": 2,
   "id": "88aae43f-4698-462a-9fd5-36bb7335431b",
   "metadata": {},
   "outputs": [
    {
     "name": "stdout",
     "output_type": "stream",
     "text": [
      "Q-Former projector initialized (EncoderProjectorQFormer).\n",
      "Passing dummy video through Q-Former...\n",
      "Output shape: torch.Size([2, 64, 768])\n"
     ]
    }
   ],
   "source": [
    "# test_qformer.py\n",
    "\n",
    "def main():\n",
    "    # Dummy config object\n",
    "    class DummyConfig:\n",
    "        def __init__(self):\n",
    "            self.dataset = type('dataset', (), {\n",
    "                'bert_name': 'bert-base-uncased',\n",
    "                'max_video_len': 32\n",
    "            })()\n",
    "            self.model = type('model', (), {\n",
    "                'encoder_projector': 'qformer',\n",
    "                'qformer_layers': 6,\n",
    "                'query_len': 64,\n",
    "                'use_seg_emb': False,\n",
    "                'mm_encoder_cls': 'MMBertForJoint'\n",
    "            })()\n",
    "\n",
    "    config = DummyConfig()\n",
    "\n",
    "    # Load config and instantiate model\n",
    "    model_config = AutoConfig.from_pretrained(config.dataset.bert_name)\n",
    "    model_config.max_video_len = config.dataset.max_video_len\n",
    "    model_config.encoder_projector = config.model.encoder_projector\n",
    "    model_config.qformer_layers = config.model.qformer_layers\n",
    "    model_config.query_len = config.model.query_len\n",
    "    model_config.use_seg_emb = config.model.use_seg_emb\n",
    "    \n",
    "    # Qformer ADD THESE:\n",
    "    model_config.encoder_dim = 768\n",
    "    model_config.llm_dim = 768\n",
    "\n",
    "\n",
    "    model = MMBertForJoint(model_config)\n",
    "\n",
    "    # Dummy input (batch_size=2, frames=8, dim=768)\n",
    "    dummy_video = torch.randn(2, 8, 768)\n",
    "    dummy_attn = torch.ones(2, 8, dtype=torch.long)\n",
    "\n",
    "    # Forward Q-Former only\n",
    "    print(\"Passing dummy video through Q-Former...\")\n",
    "    if model.use_qformer:\n",
    "        out = model.projector(dummy_video, dummy_attn)\n",
    "        print(f\"Output shape: {out.shape}\")\n",
    "\n",
    "\n",
    "if __name__ == \"__main__\":\n",
    "    main()"
   ]
  },
  {
   "cell_type": "code",
   "execution_count": null,
   "id": "c0f39e4c-e35a-4935-9f25-c73a461323ed",
   "metadata": {},
   "outputs": [],
   "source": []
  }
 ],
 "metadata": {
  "kernelspec": {
   "display_name": "Python 3 (ipykernel)",
   "language": "python",
   "name": "python3"
  },
  "language_info": {
   "codemirror_mode": {
    "name": "ipython",
    "version": 3
   },
   "file_extension": ".py",
   "mimetype": "text/x-python",
   "name": "python",
   "nbconvert_exporter": "python",
   "pygments_lexer": "ipython3",
   "version": "3.8.18"
  }
 },
 "nbformat": 4,
 "nbformat_minor": 5
}
